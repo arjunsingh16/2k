{
 "cells": [
  {
   "cell_type": "code",
   "execution_count": 1,
   "id": "ee9098fc",
   "metadata": {
    "tags": []
   },
   "outputs": [],
   "source": [
    "import pandas as pd\n",
    "import math\n",
    "import numpy as np\n",
    "#%matplotlib ipympl\n",
    "import matplotlib.pyplot as plt"
   ]
  },
  {
   "cell_type": "code",
   "execution_count": null,
   "id": "9915efd5",
   "metadata": {
    "tags": []
   },
   "outputs": [],
   "source": [
    "# #Datasets to read from \n",
    "# rawdata = [0]\n",
    "# rawdata(1) = \"B_N_10\"\n",
    "# rawdata(2) = \"B_N_12\"\n",
    "# rawdata(3) = \"B_U_9\"\n",
    "# rawdata(4) = \"B_U_11\"\n",
    "# rawdata(5) = \"DB_N_5\"\n",
    "# rawdata(6) = \"DB_N_7\"\n",
    "# rawdata(7) = \"DB_U_6\"\n",
    "# rawdata(8) = \"DB_U_8\"\n"
   ]
  },
  {
   "cell_type": "markdown",
   "id": "616694ea",
   "metadata": {
    "tags": []
   },
   "source": [
    "read .csv and reformat as dataframe with absolute force and displacement values "
   ]
  },
  {
   "cell_type": "code",
   "execution_count": null,
   "id": "8e7bc2f7",
   "metadata": {
    "tags": []
   },
   "outputs": [],
   "source": [
    "BN12 = pd.read_csv(r\"C:\\Users\\arjun\\Documents\\2K\\B_N_12.txt\", sep='\\t', header=[5])\n",
    "BN12 = BN12.drop(BN12.columns[[2,3]],axis=1).abs()\n",
    "\n",
    "BN12_new = slopefix(BN12,0.5,0.7)"
   ]
  },
  {
   "cell_type": "code",
   "execution_count": null,
   "id": "56b0ede9",
   "metadata": {},
   "outputs": [],
   "source": [
    "DB_N_7 = pd.read_csv(r\"C:\\Users\\arjun\\Documents\\2K\\DB_N_7.txt\", sep='\\t', header=[5])\n",
    "DB_N_7.plot(x='mm',y='N')"
   ]
  },
  {
   "cell_type": "code",
   "execution_count": 3,
   "id": "db44b517",
   "metadata": {},
   "outputs": [],
   "source": [
    "DB_N_5 = pd.read_csv(r\"C:\\Users\\arjun\\Documents\\2K\\DB_N_5.txt\", sep='\\t', header=[5])\n",
    "DB_N_5 = DB_N_5.drop(DB_N_5.columns[[2,3]],axis=1).abs()\n",
    "\n",
    "dataset = DB_N_5\n",
    "# DB_N_5_new = slopefix(dataset,0.5,0.9)"
   ]
  },
  {
   "cell_type": "code",
   "execution_count": 48,
   "id": "2a707d42",
   "metadata": {},
   "outputs": [],
   "source": [
    "# function to crop based on cutoff limit\n",
    "\n",
    "def cropdata(dataset,n)\n",
    "\n",
    "    #dataset = the specimen data that you want cleaned\n",
    "    #n = %cutoff, ie. 0.1 = 90% of postpeak\n",
    "    #return truncated dataset removing everything after 'n'\n",
    "\n",
    "    max_val = dataset['N'].max() #initialize\n",
    "    max_index = dataset['N'].idxmax() #initialize\n",
    "\n",
    "    dataset_temp = dataset.truncate(before=max_index) #.reset_index(drop=True)\n",
    "\n",
    "    cutoff = dataset_temp.iloc[(dataset_temp['N']-(max_val*n)).abs().argsort()[:1]]\n",
    "\n",
    "    dataset_truncated = dataset.truncate(after=cutoff.index[0]) #.reset_index(drop=True)\n",
    "\n",
    "    return dataset_truncated"
   ]
  },
  {
   "cell_type": "code",
   "execution_count": 50,
   "id": "d016d900",
   "metadata": {
    "scrolled": true
   },
   "outputs": [
    {
     "data": {
      "text/html": [
       "<div>\n",
       "<style scoped>\n",
       "    .dataframe tbody tr th:only-of-type {\n",
       "        vertical-align: middle;\n",
       "    }\n",
       "\n",
       "    .dataframe tbody tr th {\n",
       "        vertical-align: top;\n",
       "    }\n",
       "\n",
       "    .dataframe thead th {\n",
       "        text-align: right;\n",
       "    }\n",
       "</style>\n",
       "<table border=\"1\" class=\"dataframe\">\n",
       "  <thead>\n",
       "    <tr style=\"text-align: right;\">\n",
       "      <th></th>\n",
       "      <th>mm</th>\n",
       "      <th>N</th>\n",
       "    </tr>\n",
       "  </thead>\n",
       "  <tbody>\n",
       "    <tr>\n",
       "      <th>0</th>\n",
       "      <td>0.000000</td>\n",
       "      <td>10.394945</td>\n",
       "    </tr>\n",
       "    <tr>\n",
       "      <th>1</th>\n",
       "      <td>0.000000</td>\n",
       "      <td>9.500214</td>\n",
       "    </tr>\n",
       "    <tr>\n",
       "      <th>2</th>\n",
       "      <td>0.000049</td>\n",
       "      <td>10.464895</td>\n",
       "    </tr>\n",
       "    <tr>\n",
       "      <th>3</th>\n",
       "      <td>0.000098</td>\n",
       "      <td>11.496645</td>\n",
       "    </tr>\n",
       "    <tr>\n",
       "      <th>4</th>\n",
       "      <td>0.000146</td>\n",
       "      <td>9.667133</td>\n",
       "    </tr>\n",
       "    <tr>\n",
       "      <th>...</th>\n",
       "      <td>...</td>\n",
       "      <td>...</td>\n",
       "    </tr>\n",
       "    <tr>\n",
       "      <th>5132</th>\n",
       "      <td>0.427734</td>\n",
       "      <td>1105.925537</td>\n",
       "    </tr>\n",
       "    <tr>\n",
       "      <th>5133</th>\n",
       "      <td>0.427832</td>\n",
       "      <td>1105.624023</td>\n",
       "    </tr>\n",
       "    <tr>\n",
       "      <th>5134</th>\n",
       "      <td>0.427930</td>\n",
       "      <td>1104.301392</td>\n",
       "    </tr>\n",
       "    <tr>\n",
       "      <th>5135</th>\n",
       "      <td>0.428027</td>\n",
       "      <td>1103.967896</td>\n",
       "    </tr>\n",
       "    <tr>\n",
       "      <th>5136</th>\n",
       "      <td>0.428076</td>\n",
       "      <td>1103.952881</td>\n",
       "    </tr>\n",
       "  </tbody>\n",
       "</table>\n",
       "<p>5137 rows × 2 columns</p>\n",
       "</div>"
      ],
      "text/plain": [
       "            mm            N\n",
       "0     0.000000    10.394945\n",
       "1     0.000000     9.500214\n",
       "2     0.000049    10.464895\n",
       "3     0.000098    11.496645\n",
       "4     0.000146     9.667133\n",
       "...        ...          ...\n",
       "5132  0.427734  1105.925537\n",
       "5133  0.427832  1105.624023\n",
       "5134  0.427930  1104.301392\n",
       "5135  0.428027  1103.967896\n",
       "5136  0.428076  1103.952881\n",
       "\n",
       "[5137 rows x 2 columns]"
      ]
     },
     "execution_count": 50,
     "metadata": {},
     "output_type": "execute_result"
    }
   ],
   "source": [
    "dataset_truncate"
   ]
  },
  {
   "cell_type": "code",
   "execution_count": 12,
   "id": "d404027b",
   "metadata": {},
   "outputs": [],
   "source": [
    "def slopefix(dataset,f,g):\n",
    "\n",
    "    #     #dataset = the specimen data that you want cleaned\n",
    "    #     #f = startpoint for computing average slope (decimal 0-1 as % of max value)\n",
    "    #     #g = endpoint for computing average slope (decimal 0-1 as % of max value) \n",
    "\n",
    "    slope_array = [] #initialize\n",
    "    stepsize_array = [] #initialize\n",
    "    max_val = dataset['N'].max() #initialize\n",
    "    max_index = dataset.idxmax() #initialize\n",
    "    y = 10; #interpolation distance, tangent length \n",
    "    for i in range(0,max_index.N-y):\n",
    "        u =dataset.loc[i+y,\"N\"]-dataset.loc[i,\"N\"]\n",
    "        if abs(u)==0:\n",
    "            u = 0.000001 #remove any calculations that result in zero \n",
    "\n",
    "        #take averages of step and slope for data intervals of 'y'\n",
    "        slope_array.append(u)\n",
    "        stepsize_array.append(dataset.loc[i+y,\"mm\"]-dataset.loc[i,\"mm\"])\n",
    "\n",
    "    #calculate 50% and 75% of max index load values from interval values \n",
    "    stepsize = np.mean(stepsize_array)\n",
    "    index_f = int(math.ceil(max_index.N*f))\n",
    "    index_g = int(math.ceil(max_index.N*g))\n",
    "\n",
    "    slope = np.mean(slope_array[index_f:index_g]) #average slope value between 50% and 75% of the max load\n",
    "\n",
    "    ind = math.floor(dataset.N[index_g]/slope) #how many increments of the average slope until 75% max is reached\n",
    "\n",
    "    replacement_load = pd.Series([0]*ind,dtype='float') #initialize\n",
    "    replacement_disp = pd.Series([0]*ind,dtype='float') #initialize\n",
    "\n",
    "    #linear increments of averaged slope and step size\n",
    "    for i in range(1,ind):\n",
    "        replacement_load[i] = slope*i\n",
    "        replacement_disp[i] = stepsize*i \n",
    "\n",
    "    #add back the replacement load and replacement displacement \n",
    "\n",
    "    replacement_df = {'mm':replacement_disp,'N':replacement_load}\n",
    "    replacement_df = pd.DataFrame(replacement_df)\n",
    "\n",
    "    #need to rewrite the step size on displacement, for-loop subtracting first index\n",
    "    dataset_truncate = dataset.truncate(before=index_g).reset_index(drop=True)\n",
    "    j = dataset_truncate.mm[0]-replacement_disp[ind-1]\n",
    "\n",
    "    for i in range(0,len(dataset_truncate.mm)):\n",
    "        dataset_truncate.mm[i] = dataset_truncate.mm[i]-j\n",
    "\n",
    "    #final data set \n",
    "    dataset_new = pd.concat([replacement_df,dataset_truncate], ignore_index=True)\n",
    "\n",
    "    return dataset_new"
   ]
  },
  {
   "cell_type": "code",
   "execution_count": 13,
   "id": "a0d147d7",
   "metadata": {
    "scrolled": true
   },
   "outputs": [],
   "source": [
    "# DB_N_5_new.plot(x='mm',y='N')"
   ]
  },
  {
   "cell_type": "code",
   "execution_count": null,
   "id": "ed8bd47c",
   "metadata": {},
   "outputs": [],
   "source": []
  }
 ],
 "metadata": {
  "celltoolbar": "Raw Cell Format",
  "kernelspec": {
   "display_name": "Python 3 (ipykernel)",
   "language": "python",
   "name": "python3"
  },
  "language_info": {
   "codemirror_mode": {
    "name": "ipython",
    "version": 3
   },
   "file_extension": ".py",
   "mimetype": "text/x-python",
   "name": "python",
   "nbconvert_exporter": "python",
   "pygments_lexer": "ipython3",
   "version": "3.9.18"
  }
 },
 "nbformat": 4,
 "nbformat_minor": 5
}
